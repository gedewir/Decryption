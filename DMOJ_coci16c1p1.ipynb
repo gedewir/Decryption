{
  "nbformat": 4,
  "nbformat_minor": 0,
  "metadata": {
    "colab": {
      "provenance": [],
      "authorship_tag": "ABX9TyN4swNH/FPPQBjA1XgQiac5",
      "include_colab_link": true
    },
    "kernelspec": {
      "name": "python3",
      "display_name": "Python 3"
    },
    "language_info": {
      "name": "python"
    }
  },
  "cells": [
    {
      "cell_type": "markdown",
      "metadata": {
        "id": "view-in-github",
        "colab_type": "text"
      },
      "source": [
        "<a href=\"https://colab.research.google.com/github/gedewir/Decryption/blob/master/DMOJ_coci16c1p1.ipynb\" target=\"_parent\"><img src=\"https://colab.research.google.com/assets/colab-badge.svg\" alt=\"Open In Colab\"/></a>"
      ]
    },
    {
      "cell_type": "code",
      "execution_count": 5,
      "metadata": {
        "colab": {
          "base_uri": "https://localhost:8080/"
        },
        "id": "WhsMGKMV7skk",
        "outputId": "f46902eb-4d63-4cb0-f685-831620c33a6d"
      },
      "outputs": [
        {
          "output_type": "stream",
          "name": "stdout",
          "text": [
            "Data you get/month: 10\n",
            "number of months: 3\n",
            "available 10\n",
            "data you've used this month #1: 4\n",
            "available after 16\n",
            "available 16\n",
            "data you've used this month #2: 6\n",
            "available after 20\n",
            "available 20\n",
            "data you've used this month #3: 2\n",
            "available after 28\n",
            "28\n"
          ]
        }
      ],
      "source": [
        "# first input must be interger between or equal to 1 and 100\n",
        "while True:\n",
        "    try:\n",
        "        monthly_data = int(input(\"Data you get/month: \"))\n",
        "        if 1 <= monthly_data <= 100:\n",
        "            break\n",
        "        else:\n",
        "            print(\"Invalid input. Please enter an integer between 1 and 100.\")\n",
        "    except ValueError:\n",
        "        print(\"Invalid input. Please enter an integer between 1 and 100.\")\n",
        "\n",
        "# second input must be interger between or equal to 1 and 100\n",
        "while True:\n",
        "    try:\n",
        "        num_months = int(input(\"number of months: \"))\n",
        "        if 1 <= num_months <= 100:\n",
        "            break\n",
        "        else:\n",
        "            print(\"Invalid input. Please enter an integer between 1 and 100.\")\n",
        "    except ValueError:\n",
        "        print(\"Invalid input. Please enter an integer between 1 and 100.\")\n",
        "\n",
        "available_data = monthly_data\n",
        "\n",
        "# for loop to ask the amount of data per month based on the number of months asked initially\n",
        "for data_used in range(num_months):\n",
        "  print('available', available_data)\n",
        "  # user input on how much data they've used \n",
        "  while True:\n",
        "    try:\n",
        "        data_used = int(input(\"data you've used this month #\" + str(data_used+1) + ': '))\n",
        "        if 1 <= data_used <= available_data:\n",
        "            # leftover data as a result of using data \n",
        "            leftover_data = available_data - data_used\n",
        "            break\n",
        "        else:\n",
        "            print(\"equal to below monthly data\")\n",
        "    except ValueError:\n",
        "        print(\"Invalid input. Please enter an integer between 1 and 1,000.\")\n",
        "  available_data = monthly_data + leftover_data\n",
        "  print('available after', available_data)\n",
        "\n",
        "print(available_data)"
      ]
    },
    {
      "cell_type": "code",
      "source": [
        "# first input must be interger between or equal to 1 and 100\n",
        "while True:\n",
        "    try:\n",
        "        monthly_data = int(input())\n",
        "        if 1 <= monthly_data <= 100:\n",
        "            break\n",
        "        else:\n",
        "            print(\"\")\n",
        "    except ValueError:\n",
        "        print(\"\")\n",
        "\n",
        "# second input must be interger between or equal to 1 and 100\n",
        "while True:\n",
        "    try:\n",
        "        num_months = int(input())\n",
        "        if 1 <= num_months <= 100:\n",
        "            break\n",
        "        else:\n",
        "            print(\"\")\n",
        "    except ValueError:\n",
        "        print()\n",
        "\n",
        "available_data = monthly_data\n",
        "\n",
        "# for loop to ask the amount of data per month based on the number of months asked initially\n",
        "for data_used in range(num_months):\n",
        "  # user input on how much data they've used \n",
        "  while True:\n",
        "    try:\n",
        "        data_used = int(input())\n",
        "        if 1 <= data_used <= available_data:\n",
        "            # leftover data as a result of using data \n",
        "            leftover_data = available_data - data_used\n",
        "            break\n",
        "        else:\n",
        "            print(\"\")\n",
        "    except ValueError:\n",
        "        print(\"\")\n",
        "  available_data = monthly_data + leftover_data\n",
        "\n",
        "print(available_data)"
      ],
      "metadata": {
        "colab": {
          "base_uri": "https://localhost:8080/"
        },
        "id": "9fyGhFR00f0u",
        "outputId": "95e78b84-8c43-459c-aa8a-1005510e5f8c"
      },
      "execution_count": 11,
      "outputs": [
        {
          "output_type": "stream",
          "name": "stdout",
          "text": [
            "10\n",
            "3\n",
            "4\n",
            "6\n",
            "2\n",
            "28\n"
          ]
        }
      ]
    }
  ]
}